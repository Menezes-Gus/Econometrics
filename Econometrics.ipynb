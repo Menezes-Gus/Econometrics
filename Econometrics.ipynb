{
 "cells": [
  {
   "cell_type": "code",
   "execution_count": 1,
   "id": "f8dc80c0",
   "metadata": {},
   "outputs": [],
   "source": [
    "import wooldridge"
   ]
  },
  {
   "cell_type": "code",
   "execution_count": 2,
   "id": "06bca52b",
   "metadata": {},
   "outputs": [],
   "source": [
    "df = wooldridge.data('mroz')"
   ]
  },
  {
   "cell_type": "code",
   "execution_count": 3,
   "id": "9b497fe1",
   "metadata": {},
   "outputs": [],
   "source": [
    "import matplotlib.pyplot as plt"
   ]
  },
  {
   "cell_type": "code",
   "execution_count": 4,
   "id": "e4221a35",
   "metadata": {},
   "outputs": [
    {
     "data": {
      "text/html": [
       "<div>\n",
       "<style scoped>\n",
       "    .dataframe tbody tr th:only-of-type {\n",
       "        vertical-align: middle;\n",
       "    }\n",
       "\n",
       "    .dataframe tbody tr th {\n",
       "        vertical-align: top;\n",
       "    }\n",
       "\n",
       "    .dataframe thead th {\n",
       "        text-align: right;\n",
       "    }\n",
       "</style>\n",
       "<table border=\"1\" class=\"dataframe\">\n",
       "  <thead>\n",
       "    <tr style=\"text-align: right;\">\n",
       "      <th></th>\n",
       "      <th>inlf</th>\n",
       "      <th>hours</th>\n",
       "      <th>kidslt6</th>\n",
       "      <th>kidsge6</th>\n",
       "      <th>age</th>\n",
       "      <th>educ</th>\n",
       "      <th>wage</th>\n",
       "      <th>repwage</th>\n",
       "      <th>hushrs</th>\n",
       "      <th>husage</th>\n",
       "      <th>...</th>\n",
       "      <th>faminc</th>\n",
       "      <th>mtr</th>\n",
       "      <th>motheduc</th>\n",
       "      <th>fatheduc</th>\n",
       "      <th>unem</th>\n",
       "      <th>city</th>\n",
       "      <th>exper</th>\n",
       "      <th>nwifeinc</th>\n",
       "      <th>lwage</th>\n",
       "      <th>expersq</th>\n",
       "    </tr>\n",
       "  </thead>\n",
       "  <tbody>\n",
       "    <tr>\n",
       "      <th>0</th>\n",
       "      <td>1</td>\n",
       "      <td>1610</td>\n",
       "      <td>1</td>\n",
       "      <td>0</td>\n",
       "      <td>32</td>\n",
       "      <td>12</td>\n",
       "      <td>3.3540</td>\n",
       "      <td>2.65</td>\n",
       "      <td>2708</td>\n",
       "      <td>34</td>\n",
       "      <td>...</td>\n",
       "      <td>16310.0</td>\n",
       "      <td>0.7215</td>\n",
       "      <td>12</td>\n",
       "      <td>7</td>\n",
       "      <td>5.0</td>\n",
       "      <td>0</td>\n",
       "      <td>14</td>\n",
       "      <td>10.910060</td>\n",
       "      <td>1.210154</td>\n",
       "      <td>196</td>\n",
       "    </tr>\n",
       "    <tr>\n",
       "      <th>1</th>\n",
       "      <td>1</td>\n",
       "      <td>1656</td>\n",
       "      <td>0</td>\n",
       "      <td>2</td>\n",
       "      <td>30</td>\n",
       "      <td>12</td>\n",
       "      <td>1.3889</td>\n",
       "      <td>2.65</td>\n",
       "      <td>2310</td>\n",
       "      <td>30</td>\n",
       "      <td>...</td>\n",
       "      <td>21800.0</td>\n",
       "      <td>0.6615</td>\n",
       "      <td>7</td>\n",
       "      <td>7</td>\n",
       "      <td>11.0</td>\n",
       "      <td>1</td>\n",
       "      <td>5</td>\n",
       "      <td>19.499981</td>\n",
       "      <td>0.328512</td>\n",
       "      <td>25</td>\n",
       "    </tr>\n",
       "    <tr>\n",
       "      <th>2</th>\n",
       "      <td>1</td>\n",
       "      <td>1980</td>\n",
       "      <td>1</td>\n",
       "      <td>3</td>\n",
       "      <td>35</td>\n",
       "      <td>12</td>\n",
       "      <td>4.5455</td>\n",
       "      <td>4.04</td>\n",
       "      <td>3072</td>\n",
       "      <td>40</td>\n",
       "      <td>...</td>\n",
       "      <td>21040.0</td>\n",
       "      <td>0.6915</td>\n",
       "      <td>12</td>\n",
       "      <td>7</td>\n",
       "      <td>5.0</td>\n",
       "      <td>0</td>\n",
       "      <td>15</td>\n",
       "      <td>12.039910</td>\n",
       "      <td>1.514138</td>\n",
       "      <td>225</td>\n",
       "    </tr>\n",
       "    <tr>\n",
       "      <th>3</th>\n",
       "      <td>1</td>\n",
       "      <td>456</td>\n",
       "      <td>0</td>\n",
       "      <td>3</td>\n",
       "      <td>34</td>\n",
       "      <td>12</td>\n",
       "      <td>1.0965</td>\n",
       "      <td>3.25</td>\n",
       "      <td>1920</td>\n",
       "      <td>53</td>\n",
       "      <td>...</td>\n",
       "      <td>7300.0</td>\n",
       "      <td>0.7815</td>\n",
       "      <td>7</td>\n",
       "      <td>7</td>\n",
       "      <td>5.0</td>\n",
       "      <td>0</td>\n",
       "      <td>6</td>\n",
       "      <td>6.799996</td>\n",
       "      <td>0.092123</td>\n",
       "      <td>36</td>\n",
       "    </tr>\n",
       "    <tr>\n",
       "      <th>4</th>\n",
       "      <td>1</td>\n",
       "      <td>1568</td>\n",
       "      <td>1</td>\n",
       "      <td>2</td>\n",
       "      <td>31</td>\n",
       "      <td>14</td>\n",
       "      <td>4.5918</td>\n",
       "      <td>3.60</td>\n",
       "      <td>2000</td>\n",
       "      <td>32</td>\n",
       "      <td>...</td>\n",
       "      <td>27300.0</td>\n",
       "      <td>0.6215</td>\n",
       "      <td>12</td>\n",
       "      <td>14</td>\n",
       "      <td>9.5</td>\n",
       "      <td>1</td>\n",
       "      <td>7</td>\n",
       "      <td>20.100058</td>\n",
       "      <td>1.524272</td>\n",
       "      <td>49</td>\n",
       "    </tr>\n",
       "  </tbody>\n",
       "</table>\n",
       "<p>5 rows × 22 columns</p>\n",
       "</div>"
      ],
      "text/plain": [
       "   inlf  hours  kidslt6  kidsge6  age  educ    wage  repwage  hushrs  husage  \\\n",
       "0     1   1610        1        0   32    12  3.3540     2.65    2708      34   \n",
       "1     1   1656        0        2   30    12  1.3889     2.65    2310      30   \n",
       "2     1   1980        1        3   35    12  4.5455     4.04    3072      40   \n",
       "3     1    456        0        3   34    12  1.0965     3.25    1920      53   \n",
       "4     1   1568        1        2   31    14  4.5918     3.60    2000      32   \n",
       "\n",
       "   ...   faminc     mtr  motheduc  fatheduc  unem  city  exper   nwifeinc  \\\n",
       "0  ...  16310.0  0.7215        12         7   5.0     0     14  10.910060   \n",
       "1  ...  21800.0  0.6615         7         7  11.0     1      5  19.499981   \n",
       "2  ...  21040.0  0.6915        12         7   5.0     0     15  12.039910   \n",
       "3  ...   7300.0  0.7815         7         7   5.0     0      6   6.799996   \n",
       "4  ...  27300.0  0.6215        12        14   9.5     1      7  20.100058   \n",
       "\n",
       "      lwage  expersq  \n",
       "0  1.210154      196  \n",
       "1  0.328512       25  \n",
       "2  1.514138      225  \n",
       "3  0.092123       36  \n",
       "4  1.524272       49  \n",
       "\n",
       "[5 rows x 22 columns]"
      ]
     },
     "execution_count": 4,
     "metadata": {},
     "output_type": "execute_result"
    }
   ],
   "source": [
    "df.head()"
   ]
  },
  {
   "cell_type": "code",
   "execution_count": 5,
   "id": "75015cd3",
   "metadata": {},
   "outputs": [
    {
     "data": {
      "text/plain": [
       "(753, 22)"
      ]
     },
     "execution_count": 5,
     "metadata": {},
     "output_type": "execute_result"
    }
   ],
   "source": [
    "df.shape"
   ]
  },
  {
   "cell_type": "code",
   "execution_count": 6,
   "id": "7f5c7196",
   "metadata": {},
   "outputs": [],
   "source": [
    "df = df.dropna()"
   ]
  },
  {
   "cell_type": "code",
   "execution_count": 7,
   "id": "75006fdb",
   "metadata": {},
   "outputs": [
    {
     "data": {
      "text/plain": [
       "['inlf',\n",
       " 'hours',\n",
       " 'kidslt6',\n",
       " 'kidsge6',\n",
       " 'age',\n",
       " 'educ',\n",
       " 'wage',\n",
       " 'repwage',\n",
       " 'hushrs',\n",
       " 'husage',\n",
       " 'huseduc',\n",
       " 'huswage',\n",
       " 'faminc',\n",
       " 'mtr',\n",
       " 'motheduc',\n",
       " 'fatheduc',\n",
       " 'unem',\n",
       " 'city',\n",
       " 'exper',\n",
       " 'nwifeinc',\n",
       " 'lwage',\n",
       " 'expersq']"
      ]
     },
     "execution_count": 7,
     "metadata": {},
     "output_type": "execute_result"
    }
   ],
   "source": [
    "df.columns.tolist()"
   ]
  },
  {
   "cell_type": "code",
   "execution_count": 8,
   "id": "adf937a1",
   "metadata": {},
   "outputs": [],
   "source": [
    "import statsmodels.api as sm"
   ]
  },
  {
   "cell_type": "code",
   "execution_count": 9,
   "id": "9b23d8e8",
   "metadata": {},
   "outputs": [],
   "source": [
    "y = df['lwage']\n",
    "x = df['educ']"
   ]
  },
  {
   "cell_type": "code",
   "execution_count": 10,
   "id": "3b4ac011",
   "metadata": {},
   "outputs": [
    {
     "name": "stderr",
     "output_type": "stream",
     "text": [
      "D:\\Anaconda\\Anaconda_Instalado\\lib\\site-packages\\statsmodels\\tsa\\tsatools.py:142: FutureWarning: In a future version of pandas all arguments of concat except for the argument 'objs' will be keyword-only\n",
      "  x = pd.concat(x[::order], 1)\n"
     ]
    }
   ],
   "source": [
    "x = sm.add_constant(data=x)"
   ]
  },
  {
   "cell_type": "code",
   "execution_count": 11,
   "id": "c14e31ef",
   "metadata": {},
   "outputs": [],
   "source": [
    "ols_regression = sm.OLS(endog=y, exog=x).fit()"
   ]
  },
  {
   "cell_type": "code",
   "execution_count": 12,
   "id": "b41d2883",
   "metadata": {},
   "outputs": [
    {
     "data": {
      "text/html": [
       "<table class=\"simpletable\">\n",
       "<caption>OLS Regression Results</caption>\n",
       "<tr>\n",
       "  <th>Dep. Variable:</th>          <td>lwage</td>      <th>  R-squared:         </th> <td>   0.118</td>\n",
       "</tr>\n",
       "<tr>\n",
       "  <th>Model:</th>                   <td>OLS</td>       <th>  Adj. R-squared:    </th> <td>   0.116</td>\n",
       "</tr>\n",
       "<tr>\n",
       "  <th>Method:</th>             <td>Least Squares</td>  <th>  F-statistic:       </th> <td>   56.93</td>\n",
       "</tr>\n",
       "<tr>\n",
       "  <th>Date:</th>             <td>Fri, 06 May 2022</td> <th>  Prob (F-statistic):</th> <td>2.76e-13</td>\n",
       "</tr>\n",
       "<tr>\n",
       "  <th>Time:</th>                 <td>23:20:35</td>     <th>  Log-Likelihood:    </th> <td> -441.26</td>\n",
       "</tr>\n",
       "<tr>\n",
       "  <th>No. Observations:</th>      <td>   428</td>      <th>  AIC:               </th> <td>   886.5</td>\n",
       "</tr>\n",
       "<tr>\n",
       "  <th>Df Residuals:</th>          <td>   426</td>      <th>  BIC:               </th> <td>   894.6</td>\n",
       "</tr>\n",
       "<tr>\n",
       "  <th>Df Model:</th>              <td>     1</td>      <th>                     </th>     <td> </td>   \n",
       "</tr>\n",
       "<tr>\n",
       "  <th>Covariance Type:</th>      <td>nonrobust</td>    <th>                     </th>     <td> </td>   \n",
       "</tr>\n",
       "</table>\n",
       "<table class=\"simpletable\">\n",
       "<tr>\n",
       "    <td></td>       <th>coef</th>     <th>std err</th>      <th>t</th>      <th>P>|t|</th>  <th>[0.025</th>    <th>0.975]</th>  \n",
       "</tr>\n",
       "<tr>\n",
       "  <th>const</th> <td>   -0.1852</td> <td>    0.185</td> <td>   -1.000</td> <td> 0.318</td> <td>   -0.549</td> <td>    0.179</td>\n",
       "</tr>\n",
       "<tr>\n",
       "  <th>educ</th>  <td>    0.1086</td> <td>    0.014</td> <td>    7.545</td> <td> 0.000</td> <td>    0.080</td> <td>    0.137</td>\n",
       "</tr>\n",
       "</table>\n",
       "<table class=\"simpletable\">\n",
       "<tr>\n",
       "  <th>Omnibus:</th>       <td>91.833</td> <th>  Durbin-Watson:     </th> <td>   1.985</td>\n",
       "</tr>\n",
       "<tr>\n",
       "  <th>Prob(Omnibus):</th> <td> 0.000</td> <th>  Jarque-Bera (JB):  </th> <td> 303.790</td>\n",
       "</tr>\n",
       "<tr>\n",
       "  <th>Skew:</th>          <td>-0.956</td> <th>  Prob(JB):          </th> <td>1.08e-66</td>\n",
       "</tr>\n",
       "<tr>\n",
       "  <th>Kurtosis:</th>      <td> 6.658</td> <th>  Cond. No.          </th> <td>    72.9</td>\n",
       "</tr>\n",
       "</table><br/><br/>Notes:<br/>[1] Standard Errors assume that the covariance matrix of the errors is correctly specified."
      ],
      "text/plain": [
       "<class 'statsmodels.iolib.summary.Summary'>\n",
       "\"\"\"\n",
       "                            OLS Regression Results                            \n",
       "==============================================================================\n",
       "Dep. Variable:                  lwage   R-squared:                       0.118\n",
       "Model:                            OLS   Adj. R-squared:                  0.116\n",
       "Method:                 Least Squares   F-statistic:                     56.93\n",
       "Date:                Fri, 06 May 2022   Prob (F-statistic):           2.76e-13\n",
       "Time:                        23:20:35   Log-Likelihood:                -441.26\n",
       "No. Observations:                 428   AIC:                             886.5\n",
       "Df Residuals:                     426   BIC:                             894.6\n",
       "Df Model:                           1                                         \n",
       "Covariance Type:            nonrobust                                         \n",
       "==============================================================================\n",
       "                 coef    std err          t      P>|t|      [0.025      0.975]\n",
       "------------------------------------------------------------------------------\n",
       "const         -0.1852      0.185     -1.000      0.318      -0.549       0.179\n",
       "educ           0.1086      0.014      7.545      0.000       0.080       0.137\n",
       "==============================================================================\n",
       "Omnibus:                       91.833   Durbin-Watson:                   1.985\n",
       "Prob(Omnibus):                  0.000   Jarque-Bera (JB):              303.790\n",
       "Skew:                          -0.956   Prob(JB):                     1.08e-66\n",
       "Kurtosis:                       6.658   Cond. No.                         72.9\n",
       "==============================================================================\n",
       "\n",
       "Notes:\n",
       "[1] Standard Errors assume that the covariance matrix of the errors is correctly specified.\n",
       "\"\"\""
      ]
     },
     "execution_count": 12,
     "metadata": {},
     "output_type": "execute_result"
    }
   ],
   "source": [
    "ols_regression.summary()"
   ]
  },
  {
   "cell_type": "code",
   "execution_count": 13,
   "id": "b49b6a6a",
   "metadata": {},
   "outputs": [],
   "source": [
    "y_fitted = ols_regression.fittedvalues"
   ]
  },
  {
   "cell_type": "code",
   "execution_count": 14,
   "id": "65a7bce2",
   "metadata": {},
   "outputs": [
    {
     "data": {
      "image/png": "[encoded data removed]",
      "text/plain": [
       "<Figure size 432x288 with 1 Axes>"
      ]
     },
     "metadata": {
      "needs_background": "light"
     },
     "output_type": "display_data"
    }
   ],
   "source": [
    "plt.scatter(x['educ'],y, c='b', marker='x', label='Original Values')\n",
    "plt.scatter(x['educ'], y_fitted, c='r', marker='x', label='Fitted Values')\n",
    "plt.show()"
   ]
  },
  {
   "cell_type": "code",
   "execution_count": 15,
   "id": "09d863fc",
   "metadata": {},
   "outputs": [
    {
     "data": {
      "text/plain": [
       "0      0.091567\n",
       "1     -0.790075\n",
       "2      0.395551\n",
       "3     -1.026464\n",
       "4      0.188388\n",
       "         ...   \n",
       "423   -0.063263\n",
       "424    0.550270\n",
       "425    0.542193\n",
       "426    0.107861\n",
       "427    0.287902\n",
       "Length: 428, dtype: float64"
      ]
     },
     "execution_count": 15,
     "metadata": {},
     "output_type": "execute_result"
    }
   ],
   "source": [
    "ols_regression.resid"
   ]
  },
  {
   "cell_type": "code",
   "execution_count": 16,
   "id": "1abf42bf",
   "metadata": {},
   "outputs": [
    {
     "data": {
      "text/plain": [
       "0.0"
      ]
     },
     "execution_count": 16,
     "metadata": {},
     "output_type": "execute_result"
    }
   ],
   "source": [
    "round(sum(ols_regression.resid),5)"
   ]
  },
  {
   "cell_type": "code",
   "execution_count": 17,
   "id": "be6993a9",
   "metadata": {},
   "outputs": [
    {
     "data": {
      "text/plain": [
       "197.0010216102181"
      ]
     },
     "execution_count": 17,
     "metadata": {},
     "output_type": "execute_result"
    }
   ],
   "source": [
    "ols_regression.ssr"
   ]
  },
  {
   "cell_type": "code",
   "execution_count": 18,
   "id": "b34e303b",
   "metadata": {},
   "outputs": [
    {
     "data": {
      "text/plain": [
       "26.32641928189122"
      ]
     },
     "execution_count": 18,
     "metadata": {},
     "output_type": "execute_result"
    }
   ],
   "source": [
    "ols_regression.ess"
   ]
  },
  {
   "cell_type": "code",
   "execution_count": 19,
   "id": "44548f1e",
   "metadata": {},
   "outputs": [
    {
     "data": {
      "text/plain": [
       "223.3274408921093"
      ]
     },
     "execution_count": 19,
     "metadata": {},
     "output_type": "execute_result"
    }
   ],
   "source": [
    "ols_regression.centered_tss"
   ]
  },
  {
   "cell_type": "code",
   "execution_count": 20,
   "id": "9d17b757",
   "metadata": {},
   "outputs": [
    {
     "data": {
      "text/plain": [
       "223.3274408921093"
      ]
     },
     "execution_count": 20,
     "metadata": {},
     "output_type": "execute_result"
    }
   ],
   "source": [
    "ols_regression.ssr+ols_regression.ess"
   ]
  },
  {
   "cell_type": "code",
   "execution_count": 21,
   "id": "cb1cd11e",
   "metadata": {},
   "outputs": [],
   "source": [
    "import scipy.stats as st"
   ]
  },
  {
   "cell_type": "code",
   "execution_count": 22,
   "id": "eb557419",
   "metadata": {},
   "outputs": [
    {
     "data": {
      "text/plain": [
       "1.0"
      ]
     },
     "execution_count": 22,
     "metadata": {},
     "output_type": "execute_result"
    }
   ],
   "source": [
    "st.norm.cdf(9)"
   ]
  },
  {
   "cell_type": "code",
   "execution_count": 23,
   "id": "7d0dcb94",
   "metadata": {},
   "outputs": [],
   "source": [
    "import sympy as sp\n",
    "from sympy.plotting import plot"
   ]
  },
  {
   "cell_type": "code",
   "execution_count": 24,
   "id": "25667a3b",
   "metadata": {},
   "outputs": [
    {
     "data": {
      "text/latex": [
       "$\\displaystyle \\pi$"
      ],
      "text/plain": [
       "pi"
      ]
     },
     "execution_count": 24,
     "metadata": {},
     "output_type": "execute_result"
    }
   ],
   "source": [
    "sp.pi"
   ]
  },
  {
   "cell_type": "code",
   "execution_count": 25,
   "id": "e619609b",
   "metadata": {},
   "outputs": [
    {
     "data": {
      "text/latex": [
       "$\\displaystyle \\frac{\\sqrt{2} e^{- \\frac{x^{2}}{2}}}{2 \\sqrt{\\pi}}$"
      ],
      "text/plain": [
       "sqrt(2)*exp(-x**2/2)/(2*sqrt(pi))"
      ]
     },
     "execution_count": 25,
     "metadata": {},
     "output_type": "execute_result"
    }
   ],
   "source": [
    "x = sp.symbols('x')\n",
    "func = 1/sp.sqrt(2*sp.pi)*sp.exp((-x**2)/2)\n",
    "func"
   ]
  },
  {
   "cell_type": "code",
   "execution_count": 26,
   "id": "ebb5985c",
   "metadata": {},
   "outputs": [
    {
     "data": {
      "image/png": "[encoded data removed]",
      "text/plain": [
       "<Figure size 432x288 with 1 Axes>"
      ]
     },
     "metadata": {
      "needs_background": "light"
     },
     "output_type": "display_data"
    }
   ],
   "source": [
    "p1 = plot(func, show=True, xlim=(-4, 4))"
   ]
  },
  {
   "cell_type": "code",
   "execution_count": 27,
   "id": "03c49dbb",
   "metadata": {},
   "outputs": [
    {
     "data": {
      "text/plain": [
       "-1.6448536269514729"
      ]
     },
     "execution_count": 27,
     "metadata": {},
     "output_type": "execute_result"
    }
   ],
   "source": [
    "st.norm.ppf(0.05)"
   ]
  },
  {
   "cell_type": "code",
   "execution_count": 28,
   "id": "606f049f",
   "metadata": {},
   "outputs": [
    {
     "data": {
      "text/plain": [
       "-0.0866362066749474"
      ]
     },
     "execution_count": 28,
     "metadata": {},
     "output_type": "execute_result"
    }
   ],
   "source": [
    "st.norm.rvs()"
   ]
  }
 ],
 "metadata": {
  "kernelspec": {
   "display_name": "Python 3 (ipykernel)",
   "language": "python",
   "name": "python3"
  },
  "language_info": {
   "codemirror_mode": {
    "name": "ipython",
    "version": 3
   },
   "file_extension": ".py",
   "mimetype": "text/x-python",
   "name": "python",
   "nbconvert_exporter": "python",
   "pygments_lexer": "ipython3",
   "version": "3.9.7"
  }
 },
 "nbformat": 4,
 "nbformat_minor": 5
}
