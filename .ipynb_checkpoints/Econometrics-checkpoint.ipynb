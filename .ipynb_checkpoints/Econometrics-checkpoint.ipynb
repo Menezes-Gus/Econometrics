{
 "cells": [
  {
   "cell_type": "code",
   "execution_count": 1,
   "id": "f8dc80c0",
   "metadata": {},
   "outputs": [],
   "source": [
    "import wooldridge"
   ]
  },
  {
   "cell_type": "code",
   "execution_count": 2,
   "id": "06bca52b",
   "metadata": {},
   "outputs": [],
   "source": [
    "df = wooldridge.data('mroz')"
   ]
  },
  {
   "cell_type": "markdown",
   "id": "ac00ca09",
   "metadata": {},
   "source": [
    "# Teoria - Modelo de Regressão Linear (Linear Regression Model LRM)"
   ]
  },
  {
   "cell_type": "code",
   "execution_count": 3,
   "id": "9b497fe1",
   "metadata": {},
   "outputs": [],
   "source": [
    "import matplotlib.pyplot as plt"
   ]
  },
  {
   "cell_type": "code",
   "execution_count": 4,
   "id": "e4221a35",
   "metadata": {},
   "outputs": [
    {
     "data": {
      "text/html": [
       "<div>\n",
       "<style scoped>\n",
       "    .dataframe tbody tr th:only-of-type {\n",
       "        vertical-align: middle;\n",
       "    }\n",
       "\n",
       "    .dataframe tbody tr th {\n",
       "        vertical-align: top;\n",
       "    }\n",
       "\n",
       "    .dataframe thead th {\n",
       "        text-align: right;\n",
       "    }\n",
       "</style>\n",
       "<table border=\"1\" class=\"dataframe\">\n",
       "  <thead>\n",
       "    <tr style=\"text-align: right;\">\n",
       "      <th></th>\n",
       "      <th>inlf</th>\n",
       "      <th>hours</th>\n",
       "      <th>kidslt6</th>\n",
       "      <th>kidsge6</th>\n",
       "      <th>age</th>\n",
       "      <th>educ</th>\n",
       "      <th>wage</th>\n",
       "      <th>repwage</th>\n",
       "      <th>hushrs</th>\n",
       "      <th>husage</th>\n",
       "      <th>...</th>\n",
       "      <th>faminc</th>\n",
       "      <th>mtr</th>\n",
       "      <th>motheduc</th>\n",
       "      <th>fatheduc</th>\n",
       "      <th>unem</th>\n",
       "      <th>city</th>\n",
       "      <th>exper</th>\n",
       "      <th>nwifeinc</th>\n",
       "      <th>lwage</th>\n",
       "      <th>expersq</th>\n",
       "    </tr>\n",
       "  </thead>\n",
       "  <tbody>\n",
       "    <tr>\n",
       "      <th>0</th>\n",
       "      <td>1</td>\n",
       "      <td>1610</td>\n",
       "      <td>1</td>\n",
       "      <td>0</td>\n",
       "      <td>32</td>\n",
       "      <td>12</td>\n",
       "      <td>3.3540</td>\n",
       "      <td>2.65</td>\n",
       "      <td>2708</td>\n",
       "      <td>34</td>\n",
       "      <td>...</td>\n",
       "      <td>16310.0</td>\n",
       "      <td>0.7215</td>\n",
       "      <td>12</td>\n",
       "      <td>7</td>\n",
       "      <td>5.0</td>\n",
       "      <td>0</td>\n",
       "      <td>14</td>\n",
       "      <td>10.910060</td>\n",
       "      <td>1.210154</td>\n",
       "      <td>196</td>\n",
       "    </tr>\n",
       "    <tr>\n",
       "      <th>1</th>\n",
       "      <td>1</td>\n",
       "      <td>1656</td>\n",
       "      <td>0</td>\n",
       "      <td>2</td>\n",
       "      <td>30</td>\n",
       "      <td>12</td>\n",
       "      <td>1.3889</td>\n",
       "      <td>2.65</td>\n",
       "      <td>2310</td>\n",
       "      <td>30</td>\n",
       "      <td>...</td>\n",
       "      <td>21800.0</td>\n",
       "      <td>0.6615</td>\n",
       "      <td>7</td>\n",
       "      <td>7</td>\n",
       "      <td>11.0</td>\n",
       "      <td>1</td>\n",
       "      <td>5</td>\n",
       "      <td>19.499981</td>\n",
       "      <td>0.328512</td>\n",
       "      <td>25</td>\n",
       "    </tr>\n",
       "    <tr>\n",
       "      <th>2</th>\n",
       "      <td>1</td>\n",
       "      <td>1980</td>\n",
       "      <td>1</td>\n",
       "      <td>3</td>\n",
       "      <td>35</td>\n",
       "      <td>12</td>\n",
       "      <td>4.5455</td>\n",
       "      <td>4.04</td>\n",
       "      <td>3072</td>\n",
       "      <td>40</td>\n",
       "      <td>...</td>\n",
       "      <td>21040.0</td>\n",
       "      <td>0.6915</td>\n",
       "      <td>12</td>\n",
       "      <td>7</td>\n",
       "      <td>5.0</td>\n",
       "      <td>0</td>\n",
       "      <td>15</td>\n",
       "      <td>12.039910</td>\n",
       "      <td>1.514138</td>\n",
       "      <td>225</td>\n",
       "    </tr>\n",
       "    <tr>\n",
       "      <th>3</th>\n",
       "      <td>1</td>\n",
       "      <td>456</td>\n",
       "      <td>0</td>\n",
       "      <td>3</td>\n",
       "      <td>34</td>\n",
       "      <td>12</td>\n",
       "      <td>1.0965</td>\n",
       "      <td>3.25</td>\n",
       "      <td>1920</td>\n",
       "      <td>53</td>\n",
       "      <td>...</td>\n",
       "      <td>7300.0</td>\n",
       "      <td>0.7815</td>\n",
       "      <td>7</td>\n",
       "      <td>7</td>\n",
       "      <td>5.0</td>\n",
       "      <td>0</td>\n",
       "      <td>6</td>\n",
       "      <td>6.799996</td>\n",
       "      <td>0.092123</td>\n",
       "      <td>36</td>\n",
       "    </tr>\n",
       "    <tr>\n",
       "      <th>4</th>\n",
       "      <td>1</td>\n",
       "      <td>1568</td>\n",
       "      <td>1</td>\n",
       "      <td>2</td>\n",
       "      <td>31</td>\n",
       "      <td>14</td>\n",
       "      <td>4.5918</td>\n",
       "      <td>3.60</td>\n",
       "      <td>2000</td>\n",
       "      <td>32</td>\n",
       "      <td>...</td>\n",
       "      <td>27300.0</td>\n",
       "      <td>0.6215</td>\n",
       "      <td>12</td>\n",
       "      <td>14</td>\n",
       "      <td>9.5</td>\n",
       "      <td>1</td>\n",
       "      <td>7</td>\n",
       "      <td>20.100058</td>\n",
       "      <td>1.524272</td>\n",
       "      <td>49</td>\n",
       "    </tr>\n",
       "  </tbody>\n",
       "</table>\n",
       "<p>5 rows × 22 columns</p>\n",
       "</div>"
      ],
      "text/plain": [
       "   inlf  hours  kidslt6  kidsge6  age  educ    wage  repwage  hushrs  husage  \\\n",
       "0     1   1610        1        0   32    12  3.3540     2.65    2708      34   \n",
       "1     1   1656        0        2   30    12  1.3889     2.65    2310      30   \n",
       "2     1   1980        1        3   35    12  4.5455     4.04    3072      40   \n",
       "3     1    456        0        3   34    12  1.0965     3.25    1920      53   \n",
       "4     1   1568        1        2   31    14  4.5918     3.60    2000      32   \n",
       "\n",
       "   ...   faminc     mtr  motheduc  fatheduc  unem  city  exper   nwifeinc  \\\n",
       "0  ...  16310.0  0.7215        12         7   5.0     0     14  10.910060   \n",
       "1  ...  21800.0  0.6615         7         7  11.0     1      5  19.499981   \n",
       "2  ...  21040.0  0.6915        12         7   5.0     0     15  12.039910   \n",
       "3  ...   7300.0  0.7815         7         7   5.0     0      6   6.799996   \n",
       "4  ...  27300.0  0.6215        12        14   9.5     1      7  20.100058   \n",
       "\n",
       "      lwage  expersq  \n",
       "0  1.210154      196  \n",
       "1  0.328512       25  \n",
       "2  1.514138      225  \n",
       "3  0.092123       36  \n",
       "4  1.524272       49  \n",
       "\n",
       "[5 rows x 22 columns]"
      ]
     },
     "execution_count": 4,
     "metadata": {},
     "output_type": "execute_result"
    }
   ],
   "source": [
    "df.head()"
   ]
  },
  {
   "cell_type": "code",
   "execution_count": 5,
   "id": "75015cd3",
   "metadata": {},
   "outputs": [
    {
     "data": {
      "text/plain": [
       "(753, 22)"
      ]
     },
     "execution_count": 5,
     "metadata": {},
     "output_type": "execute_result"
    }
   ],
   "source": [
    "df.shape"
   ]
  },
  {
   "cell_type": "code",
   "execution_count": 6,
   "id": "7f5c7196",
   "metadata": {},
   "outputs": [],
   "source": [
    "df = df.dropna()"
   ]
  },
  {
   "cell_type": "code",
   "execution_count": 7,
   "id": "75006fdb",
   "metadata": {},
   "outputs": [
    {
     "data": {
      "text/plain": [
       "['inlf',\n",
       " 'hours',\n",
       " 'kidslt6',\n",
       " 'kidsge6',\n",
       " 'age',\n",
       " 'educ',\n",
       " 'wage',\n",
       " 'repwage',\n",
       " 'hushrs',\n",
       " 'husage',\n",
       " 'huseduc',\n",
       " 'huswage',\n",
       " 'faminc',\n",
       " 'mtr',\n",
       " 'motheduc',\n",
       " 'fatheduc',\n",
       " 'unem',\n",
       " 'city',\n",
       " 'exper',\n",
       " 'nwifeinc',\n",
       " 'lwage',\n",
       " 'expersq']"
      ]
     },
     "execution_count": 7,
     "metadata": {},
     "output_type": "execute_result"
    }
   ],
   "source": [
    "df.columns.tolist()"
   ]
  },
  {
   "cell_type": "code",
   "execution_count": 8,
   "id": "adf937a1",
   "metadata": {},
   "outputs": [],
   "source": [
    "import statsmodels.api as sm"
   ]
  },
  {
   "cell_type": "code",
   "execution_count": 9,
   "id": "9b23d8e8",
   "metadata": {},
   "outputs": [],
   "source": [
    "y = df['lwage']\n",
    "x = df['educ']"
   ]
  },
  {
   "cell_type": "code",
   "execution_count": 10,
   "id": "3b4ac011",
   "metadata": {},
   "outputs": [
    {
     "name": "stderr",
     "output_type": "stream",
     "text": [
      "D:\\Anaconda\\Anaconda_Instalado\\lib\\site-packages\\statsmodels\\tsa\\tsatools.py:142: FutureWarning: In a future version of pandas all arguments of concat except for the argument 'objs' will be keyword-only\n",
      "  x = pd.concat(x[::order], 1)\n"
     ]
    }
   ],
   "source": [
    "x = sm.add_constant(data=x)"
   ]
  },
  {
   "cell_type": "code",
   "execution_count": 11,
   "id": "c14e31ef",
   "metadata": {},
   "outputs": [],
   "source": [
    "ols_regression = sm.OLS(endog=y, exog=x).fit()"
   ]
  },
  {
   "cell_type": "code",
   "execution_count": 12,
   "id": "b41d2883",
   "metadata": {},
   "outputs": [
    {
     "data": {
      "text/html": [
       "<table class=\"simpletable\">\n",
       "<caption>OLS Regression Results</caption>\n",
       "<tr>\n",
       "  <th>Dep. Variable:</th>          <td>lwage</td>      <th>  R-squared:         </th> <td>   0.118</td>\n",
       "</tr>\n",
       "<tr>\n",
       "  <th>Model:</th>                   <td>OLS</td>       <th>  Adj. R-squared:    </th> <td>   0.116</td>\n",
       "</tr>\n",
       "<tr>\n",
       "  <th>Method:</th>             <td>Least Squares</td>  <th>  F-statistic:       </th> <td>   56.93</td>\n",
       "</tr>\n",
       "<tr>\n",
       "  <th>Date:</th>             <td>Wed, 18 May 2022</td> <th>  Prob (F-statistic):</th> <td>2.76e-13</td>\n",
       "</tr>\n",
       "<tr>\n",
       "  <th>Time:</th>                 <td>12:45:54</td>     <th>  Log-Likelihood:    </th> <td> -441.26</td>\n",
       "</tr>\n",
       "<tr>\n",
       "  <th>No. Observations:</th>      <td>   428</td>      <th>  AIC:               </th> <td>   886.5</td>\n",
       "</tr>\n",
       "<tr>\n",
       "  <th>Df Residuals:</th>          <td>   426</td>      <th>  BIC:               </th> <td>   894.6</td>\n",
       "</tr>\n",
       "<tr>\n",
       "  <th>Df Model:</th>              <td>     1</td>      <th>                     </th>     <td> </td>   \n",
       "</tr>\n",
       "<tr>\n",
       "  <th>Covariance Type:</th>      <td>nonrobust</td>    <th>                     </th>     <td> </td>   \n",
       "</tr>\n",
       "</table>\n",
       "<table class=\"simpletable\">\n",
       "<tr>\n",
       "    <td></td>       <th>coef</th>     <th>std err</th>      <th>t</th>      <th>P>|t|</th>  <th>[0.025</th>    <th>0.975]</th>  \n",
       "</tr>\n",
       "<tr>\n",
       "  <th>const</th> <td>   -0.1852</td> <td>    0.185</td> <td>   -1.000</td> <td> 0.318</td> <td>   -0.549</td> <td>    0.179</td>\n",
       "</tr>\n",
       "<tr>\n",
       "  <th>educ</th>  <td>    0.1086</td> <td>    0.014</td> <td>    7.545</td> <td> 0.000</td> <td>    0.080</td> <td>    0.137</td>\n",
       "</tr>\n",
       "</table>\n",
       "<table class=\"simpletable\">\n",
       "<tr>\n",
       "  <th>Omnibus:</th>       <td>91.833</td> <th>  Durbin-Watson:     </th> <td>   1.985</td>\n",
       "</tr>\n",
       "<tr>\n",
       "  <th>Prob(Omnibus):</th> <td> 0.000</td> <th>  Jarque-Bera (JB):  </th> <td> 303.790</td>\n",
       "</tr>\n",
       "<tr>\n",
       "  <th>Skew:</th>          <td>-0.956</td> <th>  Prob(JB):          </th> <td>1.08e-66</td>\n",
       "</tr>\n",
       "<tr>\n",
       "  <th>Kurtosis:</th>      <td> 6.658</td> <th>  Cond. No.          </th> <td>    72.9</td>\n",
       "</tr>\n",
       "</table><br/><br/>Notes:<br/>[1] Standard Errors assume that the covariance matrix of the errors is correctly specified."
      ],
      "text/plain": [
       "<class 'statsmodels.iolib.summary.Summary'>\n",
       "\"\"\"\n",
       "                            OLS Regression Results                            \n",
       "==============================================================================\n",
       "Dep. Variable:                  lwage   R-squared:                       0.118\n",
       "Model:                            OLS   Adj. R-squared:                  0.116\n",
       "Method:                 Least Squares   F-statistic:                     56.93\n",
       "Date:                Wed, 18 May 2022   Prob (F-statistic):           2.76e-13\n",
       "Time:                        12:45:54   Log-Likelihood:                -441.26\n",
       "No. Observations:                 428   AIC:                             886.5\n",
       "Df Residuals:                     426   BIC:                             894.6\n",
       "Df Model:                           1                                         \n",
       "Covariance Type:            nonrobust                                         \n",
       "==============================================================================\n",
       "                 coef    std err          t      P>|t|      [0.025      0.975]\n",
       "------------------------------------------------------------------------------\n",
       "const         -0.1852      0.185     -1.000      0.318      -0.549       0.179\n",
       "educ           0.1086      0.014      7.545      0.000       0.080       0.137\n",
       "==============================================================================\n",
       "Omnibus:                       91.833   Durbin-Watson:                   1.985\n",
       "Prob(Omnibus):                  0.000   Jarque-Bera (JB):              303.790\n",
       "Skew:                          -0.956   Prob(JB):                     1.08e-66\n",
       "Kurtosis:                       6.658   Cond. No.                         72.9\n",
       "==============================================================================\n",
       "\n",
       "Notes:\n",
       "[1] Standard Errors assume that the covariance matrix of the errors is correctly specified.\n",
       "\"\"\""
      ]
     },
     "execution_count": 12,
     "metadata": {},
     "output_type": "execute_result"
    }
   ],
   "source": [
    "ols_regression.summary()"
   ]
  },
  {
   "cell_type": "code",
   "execution_count": 13,
   "id": "b49b6a6a",
   "metadata": {},
   "outputs": [],
   "source": [
    "y_fitted = ols_regression.fittedvalues"
   ]
  },
  {
   "cell_type": "code",
   "execution_count": 14,
   "id": "65a7bce2",
   "metadata": {},
   "outputs": [
    {
     "data": {
      "image/png": "[encoded data removed]",
      "text/plain": [
       "<Figure size 432x288 with 1 Axes>"
      ]
     },
     "metadata": {
      "needs_background": "light"
     },
     "output_type": "display_data"
    }
   ],
   "source": [
    "plt.scatter(x['educ'],y, c='b', marker='x', label='Original Values')\n",
    "plt.scatter(x['educ'], y_fitted, c='r', marker='x', label='Fitted Values')\n",
    "plt.show()"
   ]
  },
  {
   "cell_type": "code",
   "execution_count": 15,
   "id": "09d863fc",
   "metadata": {},
   "outputs": [
    {
     "data": {
      "text/plain": [
       "0      0.091567\n",
       "1     -0.790075\n",
       "2      0.395551\n",
       "3     -1.026464\n",
       "4      0.188388\n",
       "         ...   \n",
       "423   -0.063263\n",
       "424    0.550270\n",
       "425    0.542193\n",
       "426    0.107861\n",
       "427    0.287902\n",
       "Length: 428, dtype: float64"
      ]
     },
     "execution_count": 15,
     "metadata": {},
     "output_type": "execute_result"
    }
   ],
   "source": [
    "ols_regression.resid"
   ]
  },
  {
   "cell_type": "code",
   "execution_count": 16,
   "id": "1abf42bf",
   "metadata": {},
   "outputs": [
    {
     "data": {
      "text/plain": [
       "0.0"
      ]
     },
     "execution_count": 16,
     "metadata": {},
     "output_type": "execute_result"
    }
   ],
   "source": [
    "round(sum(ols_regression.resid),5)"
   ]
  },
  {
   "cell_type": "code",
   "execution_count": 17,
   "id": "be6993a9",
   "metadata": {},
   "outputs": [
    {
     "data": {
      "text/plain": [
       "197.0010216102181"
      ]
     },
     "execution_count": 17,
     "metadata": {},
     "output_type": "execute_result"
    }
   ],
   "source": [
    "ols_regression.ssr"
   ]
  },
  {
   "cell_type": "code",
   "execution_count": 18,
   "id": "b34e303b",
   "metadata": {},
   "outputs": [
    {
     "data": {
      "text/plain": [
       "26.32641928189122"
      ]
     },
     "execution_count": 18,
     "metadata": {},
     "output_type": "execute_result"
    }
   ],
   "source": [
    "ols_regression.ess"
   ]
  },
  {
   "cell_type": "code",
   "execution_count": 19,
   "id": "44548f1e",
   "metadata": {},
   "outputs": [
    {
     "data": {
      "text/plain": [
       "223.3274408921093"
      ]
     },
     "execution_count": 19,
     "metadata": {},
     "output_type": "execute_result"
    }
   ],
   "source": [
    "ols_regression.centered_tss"
   ]
  },
  {
   "cell_type": "code",
   "execution_count": 20,
   "id": "9d17b757",
   "metadata": {},
   "outputs": [
    {
     "data": {
      "text/plain": [
       "223.3274408921093"
      ]
     },
     "execution_count": 20,
     "metadata": {},
     "output_type": "execute_result"
    }
   ],
   "source": [
    "ols_regression.ssr+ols_regression.ess"
   ]
  },
  {
   "cell_type": "code",
   "execution_count": 21,
   "id": "cb1cd11e",
   "metadata": {},
   "outputs": [],
   "source": [
    "import scipy.stats as st"
   ]
  },
  {
   "cell_type": "code",
   "execution_count": 22,
   "id": "eb557419",
   "metadata": {},
   "outputs": [
    {
     "data": {
      "text/plain": [
       "1.0"
      ]
     },
     "execution_count": 22,
     "metadata": {},
     "output_type": "execute_result"
    }
   ],
   "source": [
    "st.norm.cdf(9)"
   ]
  },
  {
   "cell_type": "markdown",
   "id": "e8cd1886",
   "metadata": {},
   "source": [
    "# Variáveis Aleatórias (Utilizados também para se adquirir valores de distribuições)"
   ]
  },
  {
   "cell_type": "code",
   "execution_count": 23,
   "id": "7d0dcb94",
   "metadata": {},
   "outputs": [],
   "source": [
    "import sympy as sp\n",
    "from sympy.plotting import plot"
   ]
  },
  {
   "cell_type": "code",
   "execution_count": 24,
   "id": "25667a3b",
   "metadata": {},
   "outputs": [
    {
     "data": {
      "text/latex": [
       "$\\displaystyle \\pi$"
      ],
      "text/plain": [
       "pi"
      ]
     },
     "execution_count": 24,
     "metadata": {},
     "output_type": "execute_result"
    }
   ],
   "source": [
    "sp.pi"
   ]
  },
  {
   "cell_type": "code",
   "execution_count": 25,
   "id": "e619609b",
   "metadata": {},
   "outputs": [
    {
     "data": {
      "text/latex": [
       "$\\displaystyle \\frac{\\sqrt{2} e^{- \\frac{x^{2}}{2}}}{2 \\sqrt{\\pi}}$"
      ],
      "text/plain": [
       "sqrt(2)*exp(-x**2/2)/(2*sqrt(pi))"
      ]
     },
     "execution_count": 25,
     "metadata": {},
     "output_type": "execute_result"
    }
   ],
   "source": [
    "x = sp.symbols('x')\n",
    "func = 1/sp.sqrt(2*sp.pi)*sp.exp((-x**2)/2)\n",
    "func"
   ]
  },
  {
   "cell_type": "code",
   "execution_count": 26,
   "id": "ebb5985c",
   "metadata": {},
   "outputs": [
    {
     "data": {
      "image/png": "[encoded data removed]",
      "text/plain": [
       "<Figure size 432x288 with 1 Axes>"
      ]
     },
     "metadata": {
      "needs_background": "light"
     },
     "output_type": "display_data"
    }
   ],
   "source": [
    "p1 = plot(func, show=True, xlim=(-4, 4))"
   ]
  },
  {
   "cell_type": "code",
   "execution_count": 27,
   "id": "03c49dbb",
   "metadata": {},
   "outputs": [
    {
     "data": {
      "text/plain": [
       "-1.6448536269514729"
      ]
     },
     "execution_count": 27,
     "metadata": {},
     "output_type": "execute_result"
    }
   ],
   "source": [
    "st.norm.ppf(0.05)"
   ]
  },
  {
   "cell_type": "code",
   "execution_count": 28,
   "id": "606f049f",
   "metadata": {},
   "outputs": [
    {
     "data": {
      "text/plain": [
       "0.931937956600296"
      ]
     },
     "execution_count": 28,
     "metadata": {},
     "output_type": "execute_result"
    }
   ],
   "source": [
    "st.norm.rvs()"
   ]
  },
  {
   "cell_type": "code",
   "execution_count": 29,
   "id": "4b644752",
   "metadata": {},
   "outputs": [],
   "source": [
    "# yi = B1+B2xi+ei"
   ]
  },
  {
   "cell_type": "code",
   "execution_count": 30,
   "id": "cba2a6ac",
   "metadata": {},
   "outputs": [],
   "source": [
    "import numpy as np"
   ]
  },
  {
   "cell_type": "code",
   "execution_count": 31,
   "id": "43d2cd5c",
   "metadata": {},
   "outputs": [
    {
     "data": {
      "image/png": "[encoded data removed]",
      "text/plain": [
       "<Figure size 1152x432 with 1 Axes>"
      ]
     },
     "metadata": {
      "needs_background": "light"
     },
     "output_type": "display_data"
    }
   ],
   "source": [
    "x = np.linspace(-5, 5, 10000)\n",
    "fig, ax = plt.subplots(figsize=(16,6))\n",
    "ax.plot(x, st.norm.pdf(x, 0, 1))\n",
    "plt.show()"
   ]
  },
  {
   "cell_type": "code",
   "execution_count": 32,
   "id": "594973a8",
   "metadata": {},
   "outputs": [],
   "source": [
    "#Era isso q eu queria\n",
    "x_rvs = st.norm.rvs(loc=0, scale=1, size=10000)"
   ]
  },
  {
   "cell_type": "code",
   "execution_count": 33,
   "id": "f62a9c5d",
   "metadata": {},
   "outputs": [
    {
     "data": {
      "image/png": "[encoded data removed]",
      "text/plain": [
       "<Figure size 1152x720 with 1 Axes>"
      ]
     },
     "metadata": {
      "needs_background": "light"
     },
     "output_type": "display_data"
    }
   ],
   "source": [
    "\n",
    "\n",
    "fig, ax = plt.subplots(figsize=(16,10))\n",
    "ax.hist(x_rvs,bins=1000)\n",
    "plt.show()"
   ]
  },
  {
   "cell_type": "code",
   "execution_count": 34,
   "id": "69a0eaf7",
   "metadata": {},
   "outputs": [],
   "source": [
    "counts = np.random.normal(loc=0, scale=1, size=10000)\n"
   ]
  },
  {
   "cell_type": "code",
   "execution_count": 35,
   "id": "e0ebc500",
   "metadata": {},
   "outputs": [
    {
     "data": {
      "text/plain": [
       "<function matplotlib.pyplot.show(close=None, block=None)>"
      ]
     },
     "execution_count": 35,
     "metadata": {},
     "output_type": "execute_result"
    },
    {
     "data": {
      "image/png": "[encoded data removed]",
      "text/plain": [
       "<Figure size 432x288 with 1 Axes>"
      ]
     },
     "metadata": {
      "needs_background": "light"
     },
     "output_type": "display_data"
    }
   ],
   "source": [
    "plt.hist(counts, bins=1000)\n",
    "plt.show"
   ]
  },
  {
   "cell_type": "markdown",
   "id": "83d8d5bc",
   "metadata": {},
   "source": [
    "# Teste de Chow : A Chow test is used to test whether the coefficients in two different regression models on different datasets are equal."
   ]
  },
  {
   "cell_type": "code",
   "execution_count": 36,
   "id": "258cff9d",
   "metadata": {},
   "outputs": [],
   "source": [
    "# Teste de Chow :\n",
    "# A Chow test is used to test whether the coefficients in two different regression models on different datasets are equal.\n",
    "import pandas as pd\n",
    "df = pd.DataFrame({'x': [1, 1, 2, 3, 4, 4, 5, 5, 6, 7, 7, 8, 8, 9, 10, 10,\n",
    "                         11, 12, 12, 13, 14, 15, 15, 16, 17, 18, 18, 19, 20, 20],\n",
    "                   'y': [3, 5, 6, 10, 13, 15, 17, 14, 20, 23, 25, 27, 30, 30, 31,\n",
    "                         33, 32, 32, 30, 32, 34, 34, 37, 35, 34, 36, 34, 37, 38, 36]})"
   ]
  },
  {
   "cell_type": "code",
   "execution_count": 37,
   "id": "8f3c139e",
   "metadata": {},
   "outputs": [
    {
     "data": {
      "text/html": [
       "<div>\n",
       "<style scoped>\n",
       "    .dataframe tbody tr th:only-of-type {\n",
       "        vertical-align: middle;\n",
       "    }\n",
       "\n",
       "    .dataframe tbody tr th {\n",
       "        vertical-align: top;\n",
       "    }\n",
       "\n",
       "    .dataframe thead th {\n",
       "        text-align: right;\n",
       "    }\n",
       "</style>\n",
       "<table border=\"1\" class=\"dataframe\">\n",
       "  <thead>\n",
       "    <tr style=\"text-align: right;\">\n",
       "      <th></th>\n",
       "      <th>x</th>\n",
       "      <th>y</th>\n",
       "    </tr>\n",
       "  </thead>\n",
       "  <tbody>\n",
       "    <tr>\n",
       "      <th>0</th>\n",
       "      <td>1</td>\n",
       "      <td>3</td>\n",
       "    </tr>\n",
       "    <tr>\n",
       "      <th>1</th>\n",
       "      <td>1</td>\n",
       "      <td>5</td>\n",
       "    </tr>\n",
       "    <tr>\n",
       "      <th>2</th>\n",
       "      <td>2</td>\n",
       "      <td>6</td>\n",
       "    </tr>\n",
       "    <tr>\n",
       "      <th>3</th>\n",
       "      <td>3</td>\n",
       "      <td>10</td>\n",
       "    </tr>\n",
       "    <tr>\n",
       "      <th>4</th>\n",
       "      <td>4</td>\n",
       "      <td>13</td>\n",
       "    </tr>\n",
       "  </tbody>\n",
       "</table>\n",
       "</div>"
      ],
      "text/plain": [
       "   x   y\n",
       "0  1   3\n",
       "1  1   5\n",
       "2  2   6\n",
       "3  3  10\n",
       "4  4  13"
      ]
     },
     "execution_count": 37,
     "metadata": {},
     "output_type": "execute_result"
    }
   ],
   "source": [
    "df.head()"
   ]
  },
  {
   "cell_type": "code",
   "execution_count": 38,
   "id": "abc1fbe8",
   "metadata": {},
   "outputs": [
    {
     "data": {
      "text/plain": [
       "[<matplotlib.lines.Line2D at 0x1921736d370>]"
      ]
     },
     "execution_count": 38,
     "metadata": {},
     "output_type": "execute_result"
    },
    {
     "data": {
      "image/png": "[encoded data removed]",
      "text/plain": [
       "<Figure size 432x288 with 1 Axes>"
      ]
     },
     "metadata": {
      "needs_background": "light"
     },
     "output_type": "display_data"
    }
   ],
   "source": [
    "plt.plot(df.x, df.y, 'o')"
   ]
  },
  {
   "cell_type": "code",
   "execution_count": 39,
   "id": "88afa84a",
   "metadata": {},
   "outputs": [
    {
     "name": "stdout",
     "output_type": "stream",
     "text": [
      "Reject the null hypothesis of equality of regression coefficients in the two periods.\n",
      "Chow Statistic: 113.81778458845861, P_value: 2.773337115513641e-13\n"
     ]
    },
    {
     "data": {
      "text/plain": [
       "(113.81778458845861, 2.773337115513641e-13)"
      ]
     },
     "execution_count": 39,
     "metadata": {},
     "output_type": "execute_result"
    }
   ],
   "source": [
    "import chow_test\n",
    "chow_test.chow_test(X_series=df[['x']],y_series=df['y'],last_index=15,first_index=16,significance=.05)\n"
   ]
  },
  {
   "cell_type": "markdown",
   "id": "fc696778",
   "metadata": {},
   "source": [
    "# Teste de White e Correção Robusta de White"
   ]
  },
  {
   "cell_type": "code",
   "execution_count": 40,
   "id": "55c49e97",
   "metadata": {},
   "outputs": [],
   "source": [
    "# Correção robusta de white para erros padrões\n",
    "\n",
    "# White’s test is used to determine if heteroscedasticity is present in a regression model.\n",
    "\n",
    "# Heteroscedasticity refers to the unequal scatter of residuals at different levels of a \n",
    "# response variable, which violates the assumption that the residuals are equally scattered at \n",
    "# each level of the response variable.\n",
    "url = \"https://raw.githubusercontent.com/Statology/Python-Guides/main/mtcars.csv\"\n",
    "data = pd.read_csv(url)"
   ]
  },
  {
   "cell_type": "code",
   "execution_count": 41,
   "id": "007b2093",
   "metadata": {},
   "outputs": [],
   "source": [
    "y = data['mpg']"
   ]
  },
  {
   "cell_type": "code",
   "execution_count": 42,
   "id": "c215e064",
   "metadata": {},
   "outputs": [],
   "source": [
    "x = data[['disp', 'hp']]"
   ]
  },
  {
   "cell_type": "code",
   "execution_count": 43,
   "id": "81f86c03",
   "metadata": {},
   "outputs": [
    {
     "name": "stderr",
     "output_type": "stream",
     "text": [
      "D:\\Anaconda\\Anaconda_Instalado\\lib\\site-packages\\statsmodels\\tsa\\tsatools.py:142: FutureWarning: In a future version of pandas all arguments of concat except for the argument 'objs' will be keyword-only\n",
      "  x = pd.concat(x[::order], 1)\n"
     ]
    }
   ],
   "source": [
    "x = sm.add_constant(data=x)"
   ]
  },
  {
   "cell_type": "code",
   "execution_count": 44,
   "id": "270c9042",
   "metadata": {},
   "outputs": [
    {
     "data": {
      "text/html": [
       "<table class=\"simpletable\">\n",
       "<caption>OLS Regression Results</caption>\n",
       "<tr>\n",
       "  <th>Dep. Variable:</th>           <td>mpg</td>       <th>  R-squared:         </th> <td>   0.748</td>\n",
       "</tr>\n",
       "<tr>\n",
       "  <th>Model:</th>                   <td>OLS</td>       <th>  Adj. R-squared:    </th> <td>   0.731</td>\n",
       "</tr>\n",
       "<tr>\n",
       "  <th>Method:</th>             <td>Least Squares</td>  <th>  F-statistic:       </th> <td>   43.09</td>\n",
       "</tr>\n",
       "<tr>\n",
       "  <th>Date:</th>             <td>Wed, 18 May 2022</td> <th>  Prob (F-statistic):</th> <td>2.06e-09</td>\n",
       "</tr>\n",
       "<tr>\n",
       "  <th>Time:</th>                 <td>12:46:09</td>     <th>  Log-Likelihood:    </th> <td> -80.309</td>\n",
       "</tr>\n",
       "<tr>\n",
       "  <th>No. Observations:</th>      <td>    32</td>      <th>  AIC:               </th> <td>   166.6</td>\n",
       "</tr>\n",
       "<tr>\n",
       "  <th>Df Residuals:</th>          <td>    29</td>      <th>  BIC:               </th> <td>   171.0</td>\n",
       "</tr>\n",
       "<tr>\n",
       "  <th>Df Model:</th>              <td>     2</td>      <th>                     </th>     <td> </td>   \n",
       "</tr>\n",
       "<tr>\n",
       "  <th>Covariance Type:</th>      <td>nonrobust</td>    <th>                     </th>     <td> </td>   \n",
       "</tr>\n",
       "</table>\n",
       "<table class=\"simpletable\">\n",
       "<tr>\n",
       "    <td></td>       <th>coef</th>     <th>std err</th>      <th>t</th>      <th>P>|t|</th>  <th>[0.025</th>    <th>0.975]</th>  \n",
       "</tr>\n",
       "<tr>\n",
       "  <th>const</th> <td>   30.7359</td> <td>    1.332</td> <td>   23.083</td> <td> 0.000</td> <td>   28.013</td> <td>   33.459</td>\n",
       "</tr>\n",
       "<tr>\n",
       "  <th>disp</th>  <td>   -0.0303</td> <td>    0.007</td> <td>   -4.098</td> <td> 0.000</td> <td>   -0.045</td> <td>   -0.015</td>\n",
       "</tr>\n",
       "<tr>\n",
       "  <th>hp</th>    <td>   -0.0248</td> <td>    0.013</td> <td>   -1.856</td> <td> 0.074</td> <td>   -0.052</td> <td>    0.003</td>\n",
       "</tr>\n",
       "</table>\n",
       "<table class=\"simpletable\">\n",
       "<tr>\n",
       "  <th>Omnibus:</th>       <td> 3.082</td> <th>  Durbin-Watson:     </th> <td>   1.370</td>\n",
       "</tr>\n",
       "<tr>\n",
       "  <th>Prob(Omnibus):</th> <td> 0.214</td> <th>  Jarque-Bera (JB):  </th> <td>   2.788</td>\n",
       "</tr>\n",
       "<tr>\n",
       "  <th>Skew:</th>          <td> 0.680</td> <th>  Prob(JB):          </th> <td>   0.248</td>\n",
       "</tr>\n",
       "<tr>\n",
       "  <th>Kurtosis:</th>      <td> 2.508</td> <th>  Cond. No.          </th> <td>    733.</td>\n",
       "</tr>\n",
       "</table><br/><br/>Notes:<br/>[1] Standard Errors assume that the covariance matrix of the errors is correctly specified."
      ],
      "text/plain": [
       "<class 'statsmodels.iolib.summary.Summary'>\n",
       "\"\"\"\n",
       "                            OLS Regression Results                            \n",
       "==============================================================================\n",
       "Dep. Variable:                    mpg   R-squared:                       0.748\n",
       "Model:                            OLS   Adj. R-squared:                  0.731\n",
       "Method:                 Least Squares   F-statistic:                     43.09\n",
       "Date:                Wed, 18 May 2022   Prob (F-statistic):           2.06e-09\n",
       "Time:                        12:46:09   Log-Likelihood:                -80.309\n",
       "No. Observations:                  32   AIC:                             166.6\n",
       "Df Residuals:                      29   BIC:                             171.0\n",
       "Df Model:                           2                                         \n",
       "Covariance Type:            nonrobust                                         \n",
       "==============================================================================\n",
       "                 coef    std err          t      P>|t|      [0.025      0.975]\n",
       "------------------------------------------------------------------------------\n",
       "const         30.7359      1.332     23.083      0.000      28.013      33.459\n",
       "disp          -0.0303      0.007     -4.098      0.000      -0.045      -0.015\n",
       "hp            -0.0248      0.013     -1.856      0.074      -0.052       0.003\n",
       "==============================================================================\n",
       "Omnibus:                        3.082   Durbin-Watson:                   1.370\n",
       "Prob(Omnibus):                  0.214   Jarque-Bera (JB):                2.788\n",
       "Skew:                           0.680   Prob(JB):                        0.248\n",
       "Kurtosis:                       2.508   Cond. No.                         733.\n",
       "==============================================================================\n",
       "\n",
       "Notes:\n",
       "[1] Standard Errors assume that the covariance matrix of the errors is correctly specified.\n",
       "\"\"\""
      ]
     },
     "execution_count": 44,
     "metadata": {},
     "output_type": "execute_result"
    }
   ],
   "source": [
    "ols_regression = sm.OLS(endog=y, exog=x).fit()\n",
    "ols_regression.summary()"
   ]
  },
  {
   "cell_type": "code",
   "execution_count": 45,
   "id": "c0f21a49",
   "metadata": {},
   "outputs": [],
   "source": [
    "import statsmodels.stats.diagnostic as smd"
   ]
  },
  {
   "cell_type": "code",
   "execution_count": 46,
   "id": "4f9df658",
   "metadata": {},
   "outputs": [
    {
     "data": {
      "text/plain": [
       "(7.0766203304166915,\n",
       " 0.21500404394263434,\n",
       " 1.4764621093132035,\n",
       " 0.23147065943879158)"
      ]
     },
     "execution_count": 46,
     "metadata": {},
     "output_type": "execute_result"
    }
   ],
   "source": [
    "white_test = smd.het_white(ols_regression.resid, ols_regression.model.exog)\n",
    "white_test"
   ]
  },
  {
   "cell_type": "code",
   "execution_count": 47,
   "id": "562ee866",
   "metadata": {},
   "outputs": [
    {
     "name": "stdout",
     "output_type": "stream",
     "text": [
      "{'Test Statistic': 7.0766203304166915, 'Test Statistic p-value': 0.21500404394263434, 'F-Statistic': 1.4764621093132035, 'F-Test p-value': 0.23147065943879158}\n"
     ]
    }
   ],
   "source": [
    "# a função não vem com as labels (por algum motivo) então por isso tem essa variável aqui, pra ficar legível\n",
    "labels = ['Test Statistic', 'Test Statistic p-value', 'F-Statistic', 'F-Test p-value']\n",
    "print(dict(zip(labels, white_test)))"
   ]
  },
  {
   "cell_type": "markdown",
   "id": "2d395021",
   "metadata": {},
   "source": [
    "Temos como hipótese nula a homocedasticidade, e hipótese alternativa a heterocedasticidade. Nesse caso, o p-valor foi de 0.21, ou seja, não rejeitamos hipótese nula de homocedasticidade. Supondo que a rejeitassemos, poderiamos fazer a correção robusta de white da maneira a seguir."
   ]
  },
  {
   "cell_type": "code",
   "execution_count": 48,
   "id": "aecbd195",
   "metadata": {},
   "outputs": [
    {
     "data": {
      "text/html": [
       "<table class=\"simpletable\">\n",
       "<caption>OLS Regression Results</caption>\n",
       "<tr>\n",
       "  <th>Dep. Variable:</th>           <td>mpg</td>       <th>  R-squared:         </th> <td>   0.748</td>\n",
       "</tr>\n",
       "<tr>\n",
       "  <th>Model:</th>                   <td>OLS</td>       <th>  Adj. R-squared:    </th> <td>   0.731</td>\n",
       "</tr>\n",
       "<tr>\n",
       "  <th>Method:</th>             <td>Least Squares</td>  <th>  F-statistic:       </th> <td>   34.62</td>\n",
       "</tr>\n",
       "<tr>\n",
       "  <th>Date:</th>             <td>Wed, 18 May 2022</td> <th>  Prob (F-statistic):</th> <td>2.07e-08</td>\n",
       "</tr>\n",
       "<tr>\n",
       "  <th>Time:</th>                 <td>12:46:09</td>     <th>  Log-Likelihood:    </th> <td> -80.309</td>\n",
       "</tr>\n",
       "<tr>\n",
       "  <th>No. Observations:</th>      <td>    32</td>      <th>  AIC:               </th> <td>   166.6</td>\n",
       "</tr>\n",
       "<tr>\n",
       "  <th>Df Residuals:</th>          <td>    29</td>      <th>  BIC:               </th> <td>   171.0</td>\n",
       "</tr>\n",
       "<tr>\n",
       "  <th>Df Model:</th>              <td>     2</td>      <th>                     </th>     <td> </td>   \n",
       "</tr>\n",
       "<tr>\n",
       "  <th>Covariance Type:</th>         <td>HC3</td>       <th>                     </th>     <td> </td>   \n",
       "</tr>\n",
       "</table>\n",
       "<table class=\"simpletable\">\n",
       "<tr>\n",
       "    <td></td>       <th>coef</th>     <th>std err</th>      <th>z</th>      <th>P>|z|</th>  <th>[0.025</th>    <th>0.975]</th>  \n",
       "</tr>\n",
       "<tr>\n",
       "  <th>const</th> <td>   30.7359</td> <td>    1.593</td> <td>   19.293</td> <td> 0.000</td> <td>   27.613</td> <td>   33.858</td>\n",
       "</tr>\n",
       "<tr>\n",
       "  <th>disp</th>  <td>   -0.0303</td> <td>    0.008</td> <td>   -3.817</td> <td> 0.000</td> <td>   -0.046</td> <td>   -0.015</td>\n",
       "</tr>\n",
       "<tr>\n",
       "  <th>hp</th>    <td>   -0.0248</td> <td>    0.013</td> <td>   -1.881</td> <td> 0.060</td> <td>   -0.051</td> <td>    0.001</td>\n",
       "</tr>\n",
       "</table>\n",
       "<table class=\"simpletable\">\n",
       "<tr>\n",
       "  <th>Omnibus:</th>       <td> 3.082</td> <th>  Durbin-Watson:     </th> <td>   1.370</td>\n",
       "</tr>\n",
       "<tr>\n",
       "  <th>Prob(Omnibus):</th> <td> 0.214</td> <th>  Jarque-Bera (JB):  </th> <td>   2.788</td>\n",
       "</tr>\n",
       "<tr>\n",
       "  <th>Skew:</th>          <td> 0.680</td> <th>  Prob(JB):          </th> <td>   0.248</td>\n",
       "</tr>\n",
       "<tr>\n",
       "  <th>Kurtosis:</th>      <td> 2.508</td> <th>  Cond. No.          </th> <td>    733.</td>\n",
       "</tr>\n",
       "</table><br/><br/>Notes:<br/>[1] Standard Errors are heteroscedasticity robust (HC3)"
      ],
      "text/plain": [
       "<class 'statsmodels.iolib.summary.Summary'>\n",
       "\"\"\"\n",
       "                            OLS Regression Results                            \n",
       "==============================================================================\n",
       "Dep. Variable:                    mpg   R-squared:                       0.748\n",
       "Model:                            OLS   Adj. R-squared:                  0.731\n",
       "Method:                 Least Squares   F-statistic:                     34.62\n",
       "Date:                Wed, 18 May 2022   Prob (F-statistic):           2.07e-08\n",
       "Time:                        12:46:09   Log-Likelihood:                -80.309\n",
       "No. Observations:                  32   AIC:                             166.6\n",
       "Df Residuals:                      29   BIC:                             171.0\n",
       "Df Model:                           2                                         \n",
       "Covariance Type:                  HC3                                         \n",
       "==============================================================================\n",
       "                 coef    std err          z      P>|z|      [0.025      0.975]\n",
       "------------------------------------------------------------------------------\n",
       "const         30.7359      1.593     19.293      0.000      27.613      33.858\n",
       "disp          -0.0303      0.008     -3.817      0.000      -0.046      -0.015\n",
       "hp            -0.0248      0.013     -1.881      0.060      -0.051       0.001\n",
       "==============================================================================\n",
       "Omnibus:                        3.082   Durbin-Watson:                   1.370\n",
       "Prob(Omnibus):                  0.214   Jarque-Bera (JB):                2.788\n",
       "Skew:                           0.680   Prob(JB):                        0.248\n",
       "Kurtosis:                       2.508   Cond. No.                         733.\n",
       "==============================================================================\n",
       "\n",
       "Notes:\n",
       "[1] Standard Errors are heteroscedasticity robust (HC3)\n",
       "\"\"\""
      ]
     },
     "execution_count": 48,
     "metadata": {},
     "output_type": "execute_result"
    }
   ],
   "source": [
    "ols_regression_white = sm.OLS(endog=y, exog=x).fit(cov_type='HC3')\n",
    "ols_regression_white.summary()"
   ]
  },
  {
   "cell_type": "markdown",
   "id": "5b115bdd",
   "metadata": {},
   "source": [
    "# Teste de Breusch-Pagan-Godfrey para identificação de heterocedasticidade"
   ]
  },
  {
   "cell_type": "code",
   "execution_count": 49,
   "id": "1d7fb37d",
   "metadata": {},
   "outputs": [],
   "source": [
    "df = pd.DataFrame({'rating': [90, 85, 82, 88, 94, 90, 76, 75, 87, 86],\n",
    "                   'points': [25, 20, 14, 16, 27, 20, 12, 15, 14, 19],\n",
    "                   'assists': [5, 7, 7, 8, 5, 7, 6, 9, 9, 5],\n",
    "                   'rebounds': [11, 8, 10, 6, 6, 9, 6, 10, 10, 7]})"
   ]
  },
  {
   "cell_type": "code",
   "execution_count": 50,
   "id": "eca9509b",
   "metadata": {},
   "outputs": [
    {
     "name": "stderr",
     "output_type": "stream",
     "text": [
      "D:\\Anaconda\\Anaconda_Instalado\\lib\\site-packages\\statsmodels\\tsa\\tsatools.py:142: FutureWarning: In a future version of pandas all arguments of concat except for the argument 'objs' will be keyword-only\n",
      "  x = pd.concat(x[::order], 1)\n"
     ]
    }
   ],
   "source": [
    "y = df['rating']\n",
    "x = sm.add_constant(df[['points', 'assists', 'rebounds']])"
   ]
  },
  {
   "cell_type": "code",
   "execution_count": 51,
   "id": "193e8daa",
   "metadata": {},
   "outputs": [
    {
     "name": "stderr",
     "output_type": "stream",
     "text": [
      "D:\\Anaconda\\Anaconda_Instalado\\lib\\site-packages\\scipy\\stats\\stats.py:1541: UserWarning: kurtosistest only valid for n>=20 ... continuing anyway, n=10\n",
      "  warnings.warn(\"kurtosistest only valid for n>=20 ... continuing \"\n"
     ]
    },
    {
     "data": {
      "text/html": [
       "<table class=\"simpletable\">\n",
       "<caption>OLS Regression Results</caption>\n",
       "<tr>\n",
       "  <th>Dep. Variable:</th>         <td>rating</td>      <th>  R-squared:         </th> <td>   0.623</td>\n",
       "</tr>\n",
       "<tr>\n",
       "  <th>Model:</th>                   <td>OLS</td>       <th>  Adj. R-squared:    </th> <td>   0.434</td>\n",
       "</tr>\n",
       "<tr>\n",
       "  <th>Method:</th>             <td>Least Squares</td>  <th>  F-statistic:       </th> <td>   3.299</td>\n",
       "</tr>\n",
       "<tr>\n",
       "  <th>Date:</th>             <td>Wed, 18 May 2022</td> <th>  Prob (F-statistic):</th>  <td>0.0995</td> \n",
       "</tr>\n",
       "<tr>\n",
       "  <th>Time:</th>                 <td>12:46:09</td>     <th>  Log-Likelihood:    </th> <td> -26.862</td>\n",
       "</tr>\n",
       "<tr>\n",
       "  <th>No. Observations:</th>      <td>    10</td>      <th>  AIC:               </th> <td>   61.72</td>\n",
       "</tr>\n",
       "<tr>\n",
       "  <th>Df Residuals:</th>          <td>     6</td>      <th>  BIC:               </th> <td>   62.93</td>\n",
       "</tr>\n",
       "<tr>\n",
       "  <th>Df Model:</th>              <td>     3</td>      <th>                     </th>     <td> </td>   \n",
       "</tr>\n",
       "<tr>\n",
       "  <th>Covariance Type:</th>      <td>nonrobust</td>    <th>                     </th>     <td> </td>   \n",
       "</tr>\n",
       "</table>\n",
       "<table class=\"simpletable\">\n",
       "<tr>\n",
       "      <td></td>        <th>coef</th>     <th>std err</th>      <th>t</th>      <th>P>|t|</th>  <th>[0.025</th>    <th>0.975]</th>  \n",
       "</tr>\n",
       "<tr>\n",
       "  <th>const</th>    <td>   62.4716</td> <td>   14.588</td> <td>    4.282</td> <td> 0.005</td> <td>   26.776</td> <td>   98.168</td>\n",
       "</tr>\n",
       "<tr>\n",
       "  <th>points</th>   <td>    1.1193</td> <td>    0.411</td> <td>    2.724</td> <td> 0.034</td> <td>    0.114</td> <td>    2.125</td>\n",
       "</tr>\n",
       "<tr>\n",
       "  <th>assists</th>  <td>    0.8834</td> <td>    1.381</td> <td>    0.640</td> <td> 0.546</td> <td>   -2.495</td> <td>    4.262</td>\n",
       "</tr>\n",
       "<tr>\n",
       "  <th>rebounds</th> <td>   -0.4278</td> <td>    0.851</td> <td>   -0.503</td> <td> 0.633</td> <td>   -2.510</td> <td>    1.655</td>\n",
       "</tr>\n",
       "</table>\n",
       "<table class=\"simpletable\">\n",
       "<tr>\n",
       "  <th>Omnibus:</th>       <td> 2.711</td> <th>  Durbin-Watson:     </th> <td>   2.392</td>\n",
       "</tr>\n",
       "<tr>\n",
       "  <th>Prob(Omnibus):</th> <td> 0.258</td> <th>  Jarque-Bera (JB):  </th> <td>   0.945</td>\n",
       "</tr>\n",
       "<tr>\n",
       "  <th>Skew:</th>          <td>-0.751</td> <th>  Prob(JB):          </th> <td>   0.624</td>\n",
       "</tr>\n",
       "<tr>\n",
       "  <th>Kurtosis:</th>      <td> 3.115</td> <th>  Cond. No.          </th> <td>    217.</td>\n",
       "</tr>\n",
       "</table><br/><br/>Notes:<br/>[1] Standard Errors assume that the covariance matrix of the errors is correctly specified."
      ],
      "text/plain": [
       "<class 'statsmodels.iolib.summary.Summary'>\n",
       "\"\"\"\n",
       "                            OLS Regression Results                            \n",
       "==============================================================================\n",
       "Dep. Variable:                 rating   R-squared:                       0.623\n",
       "Model:                            OLS   Adj. R-squared:                  0.434\n",
       "Method:                 Least Squares   F-statistic:                     3.299\n",
       "Date:                Wed, 18 May 2022   Prob (F-statistic):             0.0995\n",
       "Time:                        12:46:09   Log-Likelihood:                -26.862\n",
       "No. Observations:                  10   AIC:                             61.72\n",
       "Df Residuals:                       6   BIC:                             62.93\n",
       "Df Model:                           3                                         \n",
       "Covariance Type:            nonrobust                                         \n",
       "==============================================================================\n",
       "                 coef    std err          t      P>|t|      [0.025      0.975]\n",
       "------------------------------------------------------------------------------\n",
       "const         62.4716     14.588      4.282      0.005      26.776      98.168\n",
       "points         1.1193      0.411      2.724      0.034       0.114       2.125\n",
       "assists        0.8834      1.381      0.640      0.546      -2.495       4.262\n",
       "rebounds      -0.4278      0.851     -0.503      0.633      -2.510       1.655\n",
       "==============================================================================\n",
       "Omnibus:                        2.711   Durbin-Watson:                   2.392\n",
       "Prob(Omnibus):                  0.258   Jarque-Bera (JB):                0.945\n",
       "Skew:                          -0.751   Prob(JB):                        0.624\n",
       "Kurtosis:                       3.115   Cond. No.                         217.\n",
       "==============================================================================\n",
       "\n",
       "Notes:\n",
       "[1] Standard Errors assume that the covariance matrix of the errors is correctly specified.\n",
       "\"\"\""
      ]
     },
     "execution_count": 51,
     "metadata": {},
     "output_type": "execute_result"
    }
   ],
   "source": [
    "ols_regression = sm.OLS(endog=y, exog=x).fit()\n",
    "ols_regression.summary()"
   ]
  },
  {
   "cell_type": "code",
   "execution_count": 52,
   "id": "508ff7d3",
   "metadata": {},
   "outputs": [],
   "source": [
    "names = ['Lagrange multiplier statistic', 'p-value',\n",
    "        'f-value', 'f p-value']\n",
    "BP_test = smd.het_breuschpagan(ols_regression.resid, ols_regression.model.exog)"
   ]
  },
  {
   "cell_type": "code",
   "execution_count": 53,
   "id": "3f8d99d1",
   "metadata": {},
   "outputs": [
    {
     "name": "stdout",
     "output_type": "stream",
     "text": [
      "{'Lagrange multiplier statistic': 6.003951995818753, 'p-value': 0.11141811013398045, 'f-value': 3.004944880310017, 'f p-value': 0.11663863538252693}\n"
     ]
    }
   ],
   "source": [
    "print(dict(zip(names, BP_test)))"
   ]
  },
  {
   "cell_type": "markdown",
   "id": "20ab3895",
   "metadata": {},
   "source": [
    "The null hypothesis (H0): Homoscedasticity is present.\n",
    "\n",
    "The alternative hypothesis: (Ha): Homoscedasticity is not present (i.e. heteroscedasticity exists)"
   ]
  },
  {
   "cell_type": "markdown",
   "id": "d0fbcc16",
   "metadata": {},
   "source": [
    "In this example, the Lagrange multiplier statistic for the test is 6.004 and the corresponding p-value is 0.1114. Because this p-value is not less than 0.05, we fail to reject the null hypothesis. We do not have sufficient evidence to say that heteroscedasticity is present in the regression model."
   ]
  },
  {
   "cell_type": "markdown",
   "id": "a6158249",
   "metadata": {},
   "source": [
    "# WLS (Weighted Leasts Squares) utilizado para tratamento de heterocedasticidade"
   ]
  },
  {
   "cell_type": "markdown",
   "id": "e4ba7099",
   "metadata": {},
   "source": [
    "A teoria por detrás de WLS é um pouco complexa e sua aplicabilidade é situacional, por isso a ausência de exemplos concretos aqui."
   ]
  },
  {
   "cell_type": "markdown",
   "id": "07d5cef5",
   "metadata": {},
   "source": [
    "# Erros de Medição (Measurement Errors)"
   ]
  },
  {
   "cell_type": "code",
   "execution_count": null,
   "id": "42d8f277",
   "metadata": {},
   "outputs": [],
   "source": []
  }
 ],
 "metadata": {
  "kernelspec": {
   "display_name": "Python 3 (ipykernel)",
   "language": "python",
   "name": "python3"
  },
  "language_info": {
   "codemirror_mode": {
    "name": "ipython",
    "version": 3
   },
   "file_extension": ".py",
   "mimetype": "text/x-python",
   "name": "python",
   "nbconvert_exporter": "python",
   "pygments_lexer": "ipython3",
   "version": "3.9.7"
  }
 },
 "nbformat": 4,
 "nbformat_minor": 5
}
